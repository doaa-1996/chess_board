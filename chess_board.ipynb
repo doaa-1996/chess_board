{
 "cells": [
  {
   "cell_type": "code",
   "execution_count": 1,
   "metadata": {},
   "outputs": [],
   "source": [
    "%matplotlib inline\n",
    "import matplotlib.pyplot as plt\n",
    "import matplotlib.image as mpimg\n",
    "import numpy as np\n",
    "from random import random"
   ]
  },
  {
   "cell_type": "code",
   "execution_count": 2,
   "metadata": {},
   "outputs": [],
   "source": [
    "class ChessBoard:\n",
    "    white = [1,1,1]\n",
    "    blue = [0,0,1]\n",
    "    red = [1,0,0]\n",
    "    x_red=None\n",
    "    y_red=None\n",
    "    x_blue=None\n",
    "    y_blue=None\n",
    "    \n",
    "    \n",
    "    def __init__(self):\n",
    "        self.grid = np.zeros([8,8,3])\n",
    "        for i in range(8):\n",
    "            for j in range(8):\n",
    "                if (i%2==0 and j%2==0) or (i%2==1 and j%2==1):\n",
    "                    self.grid[i,j] = ChessBoard.white\n",
    "    \n",
    "          \n",
    "    def render(self):\n",
    "        plt.imshow(self.grid)\n",
    "\n",
    "    def add_red(self,row,col):\n",
    "        x_red=None\n",
    "        y_red=None\n",
    "        self.grid[row,col]=ChessBoard.red\n",
    "        ChessBoard.x_red=row\n",
    "        ChessBoard.y_red=col\n",
    "        self.render()\n",
    "\n",
    "    def add_blue(self,row,col):\n",
    "        self.grid[row,col]=ChessBoard.blue\n",
    "        ChessBoard.x_blue=row\n",
    "        ChessBoard.y_blue=col\n",
    "        self.render()\n",
    "        \n",
    "    def is_under_attack(self,x_red,y_red,x_blue,y_blue):\n",
    "        under_attack=True \n",
    "        ChessBoard.x_red=x_red\n",
    "        ChessBoard.y_red=y_red\n",
    "        ChessBoard.x_blue=x_blue\n",
    "        ChessBoard.y_blue=y_blue\n",
    "        x_subtraction=abs(ChessBoard.x_red-ChessBoard.x_blue)\n",
    "        y_subtraction=abs(ChessBoard.y_red-ChessBoard.y_blue)\n",
    "        \n",
    "        if  ChessBoard.x_red==ChessBoard.x_blue:\n",
    "            ChessBoard.under_attack=True\n",
    "            return ChessBoard.under_attack\n",
    "        \n",
    "        elif ChessBoard.y_red==ChessBoard.y_blue:\n",
    "            ChessBoard.under_attack=True\n",
    "            return ChessBoard.under_attack\n",
    "\n",
    "        elif x_subtraction==y_subtraction:\n",
    "                ChessBoard.under_attack=True\n",
    "                return ChessBoard.under_attack\n",
    "\n",
    "        else:\n",
    "            ChessBoard.under_attack = False\n",
    "            return ChessBoard.under_attack\n",
    "        \n",
    "        \n",
    "        "
   ]
  },
  {
   "cell_type": "code",
   "execution_count": 4,
   "metadata": {},
   "outputs": [
    {
     "data": {
      "image/png": "[encoded data removed]",
      "text/plain": [
       "<Figure size 432x288 with 1 Axes>"
      ]
     },
     "metadata": {
      "needs_background": "light"
     },
     "output_type": "display_data"
    }
   ],
   "source": [
    "chess=ChessBoard()\n",
    "chess.render()\n",
    "chess.add_red(4,7)\n",
    "chess.add_blue(3,7)\n",
    "assert chess.is_under_attack(3,5,4,6) == True \n",
    "assert chess.is_under_attack(4,5,4,6) == True \n",
    "assert chess.is_under_attack(3,6,4,6) == True \n",
    "assert chess.is_under_attack(0,0,2,6) == False \n",
    "assert chess.is_under_attack(7,0,6,1) == True\n"
   ]
  },
  {
   "cell_type": "code",
   "execution_count": null,
   "metadata": {},
   "outputs": [],
   "source": []
  }
 ],
 "metadata": {
  "interpreter": {
   "hash": "51b37c158fff001d9d48f35882126ac65ef149b89e1da51b2b1ab15da286bb42"
  },
  "kernelspec": {
   "display_name": "Python 3",
   "language": "python",
   "name": "python3"
  },
  "language_info": {
   "codemirror_mode": {
    "name": "ipython",
    "version": 3
   },
   "file_extension": ".py",
   "mimetype": "text/x-python",
   "name": "python",
   "nbconvert_exporter": "python",
   "pygments_lexer": "ipython3",
   "version": "3.9.4"
  }
 },
 "nbformat": 4,
 "nbformat_minor": 4
}
